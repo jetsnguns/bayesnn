{
 "nbformat": 4,
 "nbformat_minor": 0,
 "metadata": {
  "colab": {
   "name": "bbp_heteroscedastic.ipynb",
   "provenance": [],
   "collapsed_sections": []
  },
  "kernelspec": {
   "name": "python3",
   "language": "python",
   "display_name": "Python 3"
  },
  "accelerator": "GPU"
 },
 "cells": [
  {
   "cell_type": "code",
   "metadata": {
    "id": "xAYPKSFrG8AF",
    "colab_type": "code",
    "colab": {
     "base_uri": "https://localhost:8080/",
     "height": 598
    },
    "outputId": "b213b47a-5c6b-4ef0-af20-310af7fc569f"
   },
   "source": [
    "import GPy\n",
    "import pandas as pd\n",
    "import zipfile\n",
    "import urllib.request\n",
    "import time\n",
    "import copy\n",
    "import math\n",
    "import matplotlib.pyplot as plt\n",
    "import numpy as np\n",
    "import seaborn as sns\n",
    "import torch\n",
    "import torch.nn as nn\n",
    "import torch.nn.functional as F\n",
    "from torch.autograd import Variable\n",
    "#from torch.optim import Optimizer\n",
    "from sklearn.model_selection import KFold\n",
    "\n",
    "from torchvision import datasets, transforms\n",
    "from torchvision.utils import make_grid\n",
    "from tqdm import tqdm, trange"
   ],
   "execution_count": 1,
   "outputs": []
  },
  {
   "cell_type": "code",
   "metadata": {
    "id": "1-7dNcVmHA3I",
    "colab_type": "code",
    "colab": {
     "base_uri": "https://localhost:8080/",
     "height": 34
    },
    "outputId": "4d377a8a-de4a-4133-d3d9-7c6405d46046"
   },
   "source": [
    "torch.cuda.device(0)\n",
    "torch.cuda.get_device_name(torch.cuda.current_device())"
   ],
   "execution_count": 2,
   "outputs": [
    {
     "data": {
      "text/plain": "'GeForce GTX 980 Ti'"
     },
     "execution_count": 2,
     "metadata": {},
     "output_type": "execute_result"
    }
   ]
  },
  {
   "cell_type": "code",
   "metadata": {
    "id": "_BzTB5WsP9Kx",
    "colab_type": "code",
    "colab": {}
   },
   "source": [
    "def to_variable(var=(), cuda=True, volatile=False):\n",
    "    out = []\n",
    "    for v in var:\n",
    "        \n",
    "        if isinstance(v, np.ndarray):\n",
    "            v = torch.from_numpy(v).type(torch.FloatTensor)\n",
    "\n",
    "        if not v.is_cuda and cuda:\n",
    "            v = v.cuda()\n",
    "\n",
    "        if not isinstance(v, Variable):\n",
    "            v = Variable(v, volatile=volatile)\n",
    "\n",
    "        out.append(v)\n",
    "    return out"
   ],
   "execution_count": 3,
   "outputs": []
  },
  {
   "cell_type": "code",
   "metadata": {
    "id": "Va8V78eFFsc9",
    "colab_type": "code",
    "colab": {}
   },
   "source": [
    "def log_gaussian_loss(output, target, sigma, no_dim, sum_reduce=True):\n",
    "    exponent = -0.5*(target - output)**2/sigma**2\n",
    "    log_coeff = -no_dim*torch.log(sigma) - 0.5*no_dim*np.log(2*np.pi)\n",
    "    \n",
    "    if sum_reduce:\n",
    "        return -(log_coeff + exponent).sum()\n",
    "    else:\n",
    "        return -(log_coeff + exponent)\n",
    "\n",
    "\n",
    "def get_kl_divergence(weights, prior, varpost):\n",
    "    prior_loglik = prior.loglik(weights)\n",
    "    \n",
    "    varpost_loglik = varpost.loglik(weights)\n",
    "    varpost_lik = varpost_loglik.exp()\n",
    "    \n",
    "    return (varpost_lik*(varpost_loglik - prior_loglik)).sum()\n",
    "\n",
    "\n",
    "class gaussian:\n",
    "    def __init__(self, mu, sigma):\n",
    "        self.mu = mu\n",
    "        self.sigma = sigma\n",
    "        \n",
    "    def loglik(self, weights):\n",
    "        exponent = -0.5*(weights - self.mu)**2/self.sigma**2\n",
    "        log_coeff = -0.5*(np.log(2*np.pi) + 2*np.log(self.sigma))\n",
    "        \n",
    "        return (exponent + log_coeff).sum()"
   ],
   "execution_count": 4,
   "outputs": []
  },
  {
   "cell_type": "code",
   "metadata": {
    "colab_type": "code",
    "id": "ASGi2Ecx5G-F",
    "colab": {}
   },
   "source": [
    "class BayesLinear_Normalq(nn.Module):\n",
    "    def __init__(self, input_dim, output_dim, prior):\n",
    "        super(BayesLinear_Normalq, self).__init__()\n",
    "        self.input_dim = input_dim\n",
    "        self.output_dim = output_dim\n",
    "        self.prior = prior\n",
    "        \n",
    "        scale = (2/self.input_dim)**0.5\n",
    "        rho_init = np.log(np.exp((2/self.input_dim)**0.5) - 1)\n",
    "        self.weight_mus = nn.Parameter(torch.Tensor(self.input_dim, self.output_dim).uniform_(-0.01, 0.01))\n",
    "        self.weight_rhos = nn.Parameter(torch.Tensor(self.input_dim, self.output_dim).uniform_(-3, -3))\n",
    "        \n",
    "        self.bias_mus = nn.Parameter(torch.Tensor(self.output_dim).uniform_(-0.01, 0.01))\n",
    "        self.bias_rhos = nn.Parameter(torch.Tensor(self.output_dim).uniform_(-4, -3))\n",
    "        \n",
    "    def forward(self, x, sample = True):\n",
    "        \n",
    "        if sample:\n",
    "            # sample gaussian noise for each weight and each bias\n",
    "            weight_epsilons = Variable(self.weight_mus.data.new(self.weight_mus.size()).normal_())\n",
    "            bias_epsilons =  Variable(self.bias_mus.data.new(self.bias_mus.size()).normal_())\n",
    "            \n",
    "            # calculate the weight and bias stds from the rho parameters\n",
    "            weight_stds = torch.log(1 + torch.exp(self.weight_rhos))\n",
    "            bias_stds = torch.log(1 + torch.exp(self.bias_rhos))\n",
    "            \n",
    "            # calculate samples from the posterior from the sampled noise and mus/stds\n",
    "            weight_sample = self.weight_mus + weight_epsilons*weight_stds\n",
    "            bias_sample = self.bias_mus + bias_epsilons*bias_stds\n",
    "            \n",
    "            output = torch.mm(x, weight_sample) + bias_sample\n",
    "            \n",
    "            # computing the KL loss term\n",
    "            prior_cov, varpost_cov = self.prior.sigma**2, weight_stds**2\n",
    "            KL_loss = 0.5*(torch.log(prior_cov/varpost_cov)).sum() - 0.5*weight_stds.numel()\n",
    "            KL_loss = KL_loss + 0.5*(varpost_cov/prior_cov).sum()\n",
    "            KL_loss = KL_loss + 0.5*((self.weight_mus - self.prior.mu)**2/prior_cov).sum()\n",
    "            \n",
    "            prior_cov, varpost_cov = self.prior.sigma**2, bias_stds**2\n",
    "            KL_loss = KL_loss + 0.5*(torch.log(prior_cov/varpost_cov)).sum() - 0.5*bias_stds.numel()\n",
    "            KL_loss = KL_loss + 0.5*(varpost_cov/prior_cov).sum()\n",
    "            KL_loss = KL_loss + 0.5*((self.bias_mus - self.prior.mu)**2/prior_cov).sum()\n",
    "            \n",
    "            return output, KL_loss\n",
    "        \n",
    "        else:\n",
    "            output = torch.mm(x, self.weight_mus) + self.bias_mus\n",
    "            return output, KL_loss\n",
    "        \n",
    "    def sample_layer(self, no_samples):\n",
    "        all_samples = []\n",
    "        for i in range(no_samples):\n",
    "            # sample gaussian noise for each weight and each bias\n",
    "            weight_epsilons = Variable(self.weight_mus.data.new(self.weight_mus.size()).normal_())\n",
    "            \n",
    "            # calculate the weight and bias stds from the rho parameters\n",
    "            weight_stds = torch.log(1 + torch.exp(self.weight_rhos))\n",
    "            \n",
    "            # calculate samples from the posterior from the sampled noise and mus/stds\n",
    "            weight_sample = self.weight_mus + weight_epsilons*weight_stds\n",
    "            \n",
    "            all_samples += weight_sample.view(-1).cpu().data.numpy().tolist()\n",
    "            \n",
    "        return all_samples"
   ],
   "execution_count": 5,
   "outputs": []
  },
  {
   "cell_type": "code",
   "metadata": {
    "colab_type": "code",
    "id": "_8dV-QIq5G-I",
    "colab": {}
   },
   "source": [
    "class BBP_Heteroscedastic_Model(nn.Module):\n",
    "    def __init__(self, input_dim, output_dim, num_units):\n",
    "        super(BBP_Heteroscedastic_Model, self).__init__()\n",
    "        \n",
    "        self.input_dim = input_dim\n",
    "        self.output_dim = output_dim\n",
    "        \n",
    "        # network with two hidden and one output layer\n",
    "        self.layer1 = BayesLinear_Normalq(input_dim, num_units, gaussian(0, 1))\n",
    "        self.layer2 = BayesLinear_Normalq(num_units, 2*output_dim, gaussian(0, 1))\n",
    "        \n",
    "        # activation to be used between hidden layers\n",
    "        self.activation = nn.ReLU(inplace = True)\n",
    "    \n",
    "    def forward(self, x):\n",
    "        \n",
    "        KL_loss_total = 0\n",
    "        x = x.view(-1, self.input_dim)\n",
    "        \n",
    "        x, KL_loss = self.layer1(x)\n",
    "        KL_loss_total = KL_loss_total + KL_loss\n",
    "        x = self.activation(x)\n",
    "        \n",
    "        x, KL_loss = self.layer2(x)\n",
    "        KL_loss_total = KL_loss_total + KL_loss\n",
    "        \n",
    "        return x, KL_loss_total"
   ],
   "execution_count": 6,
   "outputs": []
  },
  {
   "cell_type": "code",
   "metadata": {
    "colab_type": "code",
    "id": "oAYelw3B5G-K",
    "colab": {}
   },
   "source": [
    "class BBP_Heteroscedastic_Model_Wrapper:\n",
    "    def __init__(self, network, learn_rate, batch_size, no_batches):\n",
    "        \n",
    "        self.learn_rate = learn_rate\n",
    "        self.batch_size = batch_size\n",
    "        self.no_batches = no_batches\n",
    "        \n",
    "        self.network = network\n",
    "        self.network.cuda()\n",
    "        \n",
    "        self.optimizer = torch.optim.Adam(self.network.parameters(), lr = self.learn_rate)\n",
    "        self.loss_func = log_gaussian_loss\n",
    "    \n",
    "    def fit(self, x, y, no_samples):\n",
    "        x, y = to_variable(var=(x, y), cuda=True)\n",
    "        \n",
    "        # reset gradient and total loss\n",
    "        self.optimizer.zero_grad()\n",
    "        fit_loss_total = 0\n",
    "        \n",
    "        for i in range(no_samples):\n",
    "            output, KL_loss_total = self.network(x)\n",
    "\n",
    "            # calculate fit loss based on mean and standard deviation of output\n",
    "            fit_loss = self.loss_func(output[:, :1], y, output[:, 1:].exp(), 1)\n",
    "            fit_loss_total = fit_loss_total + fit_loss\n",
    "        \n",
    "        KL_loss_total = KL_loss_total/self.no_batches\n",
    "        total_loss = (fit_loss_total + KL_loss_total)/(no_samples*x.shape[0])\n",
    "        total_loss.backward()\n",
    "        self.optimizer.step()\n",
    "\n",
    "        return fit_loss_total/no_samples, KL_loss_total\n",
    "    \n",
    "    def get_loss_and_rmse(self, x, y, no_samples):\n",
    "        x, y = to_variable(var=(x, y), cuda=True)\n",
    "        \n",
    "        means, stds = [], []\n",
    "        for i in range(no_samples):\n",
    "            output, KL_loss_total = self.network(x)\n",
    "            means.append(output[:, :1, None])\n",
    "            stds.append(output[:, 1:, None].exp())\n",
    "            \n",
    "        means, stds = torch.cat(means, 2), torch.cat(stds, 2)\n",
    "        mean = means.mean(dim=2)\n",
    "        std = (means.var(dim=2) + stds.mean(dim=2)**2)**0.5\n",
    "            \n",
    "        # calculate fit loss based on mean and standard deviation of output\n",
    "        logliks = self.loss_func(output[:, :1], y, output[:, 1:].exp(), 1, sum_reduce=False)\n",
    "        rmse = float((((mean - y)**2).mean()**0.5).cpu().data)\n",
    "\n",
    "        return logliks, rmse"
   ],
   "execution_count": 7,
   "outputs": []
  },
  {
   "cell_type": "code",
   "metadata": {
    "id": "ym6HBK-s8GnO",
    "colab_type": "code",
    "colab": {
     "base_uri": "https://localhost:8080/",
     "height": 374
    },
    "outputId": "cf690ac5-03a9-4c75-e730-bd09bdf9dda8"
   },
   "source": [
    "np.random.seed(2)\n",
    "no_points = 400\n",
    "lengthscale = 1\n",
    "variance = 1.0\n",
    "sig_noise = 0.3\n",
    "x = np.random.uniform(-3, 3, no_points)[:, None]\n",
    "x.sort(axis = 0)\n",
    "\n",
    "k = GPy.kern.RBF(input_dim = 1, variance = variance, lengthscale = lengthscale)\n",
    "C = k.K(x, x) + np.eye(no_points)*(x + 2)**2*sig_noise**2\n",
    "\n",
    "y = np.random.multivariate_normal(np.zeros((no_points)), C)[:, None]\n",
    "y = (y - y.mean())\n",
    "x_train = x[75:325]\n",
    "y_mean = y[75:325].mean()\n",
    "y_std = y[75:325].var()**0.5\n",
    "y_train = (y[75:325] - y_mean)/y_std"
   ],
   "execution_count": 8,
   "outputs": [
    {
     "name": "stdout",
     "output_type": "stream",
     "text": [
      "Epoch:     1/ 2000, Fit loss = 355.136, KL loss = 2125.559\n",
      "Epoch:   101/ 2000, Fit loss =  98.317, KL loss = 1835.170\n",
      "Epoch:   201/ 2000, Fit loss =  90.873, KL loss = 1767.671\n",
      "Epoch:   301/ 2000, Fit loss =  72.231, KL loss = 1703.209\n",
      "Epoch:   401/ 2000, Fit loss =  48.400, KL loss = 1640.563\n",
      "Epoch:   501/ 2000, Fit loss =  45.272, KL loss = 1587.605\n",
      "Epoch:   601/ 2000, Fit loss =  58.133, KL loss = 1535.601\n",
      "Epoch:   701/ 2000, Fit loss =  45.297, KL loss = 1481.116\n",
      "Epoch:   801/ 2000, Fit loss =  22.329, KL loss = 1430.239\n",
      "Epoch:   901/ 2000, Fit loss =  45.064, KL loss = 1381.185\n",
      "Epoch:  1001/ 2000, Fit loss =  21.548, KL loss = 1342.482\n",
      "Epoch:  1101/ 2000, Fit loss =  32.388, KL loss = 1306.493\n",
      "Epoch:  1201/ 2000, Fit loss =  19.476, KL loss = 1270.299\n",
      "Epoch:  1301/ 2000, Fit loss =  17.431, KL loss = 1239.028\n",
      "Epoch:  1401/ 2000, Fit loss =  17.069, KL loss = 1205.658\n",
      "Epoch:  1501/ 2000, Fit loss =  17.149, KL loss = 1177.379\n",
      "Epoch:  1601/ 2000, Fit loss =  12.652, KL loss = 1146.467\n",
      "Epoch:  1701/ 2000, Fit loss =  13.734, KL loss = 1116.736\n",
      "Epoch:  1801/ 2000, Fit loss =  11.524, KL loss = 1089.322\n",
      "Epoch:  1901/ 2000, Fit loss =  10.729, KL loss = 1064.142\n",
      "Epoch:  2000/ 2000, Fit loss =  10.417, KL loss = 1044.764\n"
     ]
    }
   ]
  },
  {
   "cell_type": "code",
   "execution_count": 10,
   "outputs": [],
   "source": [
    "def true_f(x):\n",
    "    return np.sin(12.0 * x) + 0.66 * np.cos(25.0 * x) + 3.0\n",
    "\n",
    "\n",
    "def get_data(train_size=100, test_size=100):\n",
    "    n = train_size + test_size\n",
    "\n",
    "    np.random.seed(42)\n",
    "\n",
    "    #X = np.linspace(-2.0, 2.0, num=n)\n",
    "    X = np.random.uniform(-1.0, 1.0, n)\n",
    "    Y = true_f(X) + np.random.normal(0, 0.1, n)\n",
    "\n",
    "    return X[:train_size], Y[:train_size], X[train_size:], Y[train_size:]"
   ],
   "metadata": {
    "collapsed": false,
    "pycharm": {
     "name": "#%%\n"
    }
   }
  },
  {
   "cell_type": "code",
   "execution_count": 11,
   "outputs": [
    {
     "data": {
      "text/plain": "<Figure size 600x500 with 1 Axes>",
      "image/png": "[encoded data removed]"
     },
     "metadata": {},
     "output_type": "display_data"
    }
   ],
   "source": [
    "true_x = np.linspace(-1.0, 1.0, 1000)\n",
    "true_y = true_f(true_x)\n",
    "\n",
    "X_train, y_train, X_test, y_test = get_data(200, 200)\n",
    "\n",
    "plt.figure(figsize = (6, 5))\n",
    "plt.style.use('default')\n",
    "\n",
    "plt.plot(true_x, true_y, color='black', label='True function')\n",
    "plt.scatter(X_train, y_train, s=10, marker='x', color='blue', label='Train set')\n",
    "plt.scatter(X_test, y_test, s=10, marker='x', color='green', label='Test set')\n",
    "\n",
    "plt.legend()\n",
    "\n",
    "plt.show()"
   ],
   "metadata": {
    "collapsed": false,
    "pycharm": {
     "name": "#%%\n"
    }
   }
  },
  {
   "cell_type": "code",
   "execution_count": 12,
   "outputs": [
    {
     "name": "stdout",
     "output_type": "stream",
     "text": [
      "Epoch:     1/ 2000, Fit loss = 248476.828, KL loss = 2127.833\n",
      "Epoch:   101/ 2000, Fit loss = 50173.016, KL loss = 2149.250\n",
      "Epoch:   201/ 2000, Fit loss = 49971.621, KL loss = 2195.682\n",
      "Epoch:   301/ 2000, Fit loss = 49924.676, KL loss = 2236.798\n",
      "Epoch:   401/ 2000, Fit loss = 50027.695, KL loss = 2274.556\n",
      "Epoch:   501/ 2000, Fit loss = 49862.434, KL loss = 2309.115\n",
      "Epoch:   601/ 2000, Fit loss = 50050.504, KL loss = 2338.927\n",
      "Epoch:   701/ 2000, Fit loss = 49996.977, KL loss = 2364.649\n",
      "Epoch:   801/ 2000, Fit loss = 49764.934, KL loss = 2387.327\n",
      "Epoch:   901/ 2000, Fit loss = 49774.340, KL loss = 2406.696\n",
      "Epoch:  1001/ 2000, Fit loss = 49768.781, KL loss = 2421.339\n",
      "Epoch:  1101/ 2000, Fit loss = 49744.617, KL loss = 2433.576\n",
      "Epoch:  1201/ 2000, Fit loss = 49789.090, KL loss = 2443.639\n",
      "Epoch:  1301/ 2000, Fit loss = 49723.117, KL loss = 2450.265\n",
      "Epoch:  1401/ 2000, Fit loss = 49700.598, KL loss = 2454.233\n",
      "Epoch:  1501/ 2000, Fit loss = 49726.836, KL loss = 2456.705\n",
      "Epoch:  1601/ 2000, Fit loss = 49712.164, KL loss = 2456.782\n",
      "Epoch:  1701/ 2000, Fit loss = 49746.383, KL loss = 2455.765\n",
      "Epoch:  1801/ 2000, Fit loss = 49708.934, KL loss = 2452.934\n",
      "Epoch:  1901/ 2000, Fit loss = 49663.074, KL loss = 2446.851\n",
      "Epoch:  2000/ 2000, Fit loss = 49705.715, KL loss = 2440.459\n"
     ]
    }
   ],
   "source": [
    "x_train = X_train\n",
    "\n",
    "num_epochs, batch_size, nb_train = 2000, len(x_train), len(x_train)\n",
    "\n",
    "net = BBP_Heteroscedastic_Model_Wrapper(network=BBP_Heteroscedastic_Model(input_dim=1, output_dim=1, num_units=200),\n",
    "                                        learn_rate=1e-2, batch_size=batch_size, no_batches=1)\n",
    "\n",
    "fit_loss_train = np.zeros(num_epochs)\n",
    "KL_loss_train = np.zeros(num_epochs)\n",
    "total_loss = np.zeros(num_epochs)\n",
    "\n",
    "best_net, best_loss = None, float('inf')\n",
    "\n",
    "for i in range(num_epochs):\n",
    "    \n",
    "    fit_loss, KL_loss = net.fit(x_train, y_train, no_samples = 10)\n",
    "    fit_loss_train[i] += fit_loss.cpu().data.numpy()\n",
    "    KL_loss_train[i] += KL_loss.cpu().data.numpy()\n",
    "    \n",
    "    total_loss[i] = fit_loss_train[i] + KL_loss_train[i]\n",
    "    \n",
    "    if fit_loss < best_loss:\n",
    "        best_loss = fit_loss\n",
    "        best_net = copy.deepcopy(net.network)\n",
    "        \n",
    "    if i % 100 == 0 or i == num_epochs - 1:\n",
    "        \n",
    "        print(\"Epoch: %5d/%5d, Fit loss = %7.3f, KL loss = %8.3f\" %\n",
    "              (i + 1, num_epochs, fit_loss_train[i], KL_loss_train[i]))\n",
    "\n",
    "        samples = []\n",
    "        #for i in range(100):\n",
    "        #    preds = net.network.forward(torch.linspace(-3, 3, 200).cuda())[0]\n",
    "        #    samples.append(preds.cpu().data.numpy()[:, 0])"
   ],
   "metadata": {
    "collapsed": false,
    "pycharm": {
     "name": "#%%\n"
    }
   }
  },
  {
   "cell_type": "code",
   "execution_count": 13,
   "outputs": [],
   "source": [
    "n_samples = 100\n",
    "\n",
    "X_test_cuda = torch.from_numpy(X_test.reshape((-1, 1))).float().cuda()\n",
    "\n",
    "samples_m = np.zeros((n_samples, X_test.shape[0]))\n",
    "samples_s = np.zeros_like(samples_m)\n",
    "for i in range(n_samples):\n",
    "    preds = best_net.forward(X_test_cuda)[0]\n",
    "    np_m = preds[:, 0].cpu().data.numpy()\n",
    "    np_s = preds[:, 1].exp().cpu().data.numpy()\n",
    "    samples_m[i, :] = np_m\n",
    "    samples_s[i, :] = np_s\n",
    "\n",
    "y_pred = samples_m.mean(axis=0)\n",
    "y_err = 2 * samples_s.mean(axis=0)"
   ],
   "metadata": {
    "collapsed": false,
    "pycharm": {
     "name": "#%%\n"
    }
   }
  },
  {
   "cell_type": "code",
   "execution_count": 14,
   "outputs": [
    {
     "data": {
      "text/plain": "<Figure size 600x500 with 1 Axes>",
      "image/png": "[encoded data removed]"
     },
     "metadata": {},
     "output_type": "display_data"
    }
   ],
   "source": [
    "plt.figure(figsize = (6, 5))\n",
    "plt.style.use('default')\n",
    "\n",
    "plt.plot(true_x, true_y, color='black', label='True function')\n",
    "plt.scatter(X_test, y_test, s=10, marker='x', color='green', label='Test set')\n",
    "\n",
    "plt.errorbar(X_test, y_pred, yerr=y_err, fmt='o', label='Predictions')\n",
    "\n",
    "plt.legend()\n",
    "\n",
    "plt.show()"
   ],
   "metadata": {
    "collapsed": false,
    "pycharm": {
     "name": "#%%\n"
    }
   }
  },
  {
   "cell_type": "code",
   "metadata": {
    "id": "D-I8x6HNO_2M",
    "colab_type": "code",
    "colab": {
     "base_uri": "https://localhost:8080/",
     "height": 543
    },
    "outputId": "596120cf-76e7-440e-fd0d-57cb0fd5d9bb"
   },
   "source": [
    "samples, noises = [], []\n",
    "for i in range(100):\n",
    "    preds = best_net.forward(torch.linspace(-5, 5, 200).cuda())[0]\n",
    "    samples.append(preds[:, 0].cpu().data.numpy()* y_std + y_mean)\n",
    "    noises.append(preds[:, 1].exp().cpu().data.numpy()* y_std)\n",
    "\n",
    "samples = np.array(samples)\n",
    "noises = np.array(noises)\n",
    "means = samples.mean(axis = 0)\n",
    "\n",
    "aleatoric = (noises**2).mean(axis = 0)**0.5\n",
    "epistemic = samples.var(axis = 0)**0.5\n",
    "aleatoric = np.minimum(aleatoric, 10e3)\n",
    "epistemic = np.minimum(epistemic, 10e3)\n",
    "\n",
    "total_unc = (aleatoric**2 + epistemic**2)**0.5\n",
    "\n",
    "c = ['#1f77b4', '#ff7f0e', '#2ca02c', '#d62728', '#9467bd',\n",
    "     '#8c564b', '#e377c2', '#7f7f7f', '#bcbd22', '#17becf']\n",
    "\n",
    "x_mean, x_std = x_train.mean(), x_train.var()**0.5\n",
    "plt.figure(figsize = (6, 5))\n",
    "plt.style.use('default')\n",
    "plt.scatter(x_train * x_std + x_mean, y_train * y_std + y_mean, s = 10, marker = 'x', color = 'black', alpha = 0.5)\n",
    "plt.fill_between(np.linspace(-5, 5, 200)* x_std + x_mean, means + aleatoric, means + total_unc, color = c[0], alpha = 0.3, label = 'Epistemic + Aleatoric')\n",
    "plt.fill_between(np.linspace(-5, 5, 200)* x_std + x_mean, means - total_unc, means - aleatoric, color = c[0], alpha = 0.3)\n",
    "plt.fill_between(np.linspace(-5, 5, 200)* x_std + x_mean, means - aleatoric, means + aleatoric, color = c[1], alpha = 0.4, label = 'Aleatoric')\n",
    "plt.plot(np.linspace(-5, 5, 200)* x_std + x_mean, means, color = 'black', linewidth = 1)\n",
    "plt.xlim([-5, 5])\n",
    "plt.ylim([-5, 7])\n",
    "plt.xlabel('$x$', fontsize=30)\n",
    "plt.title('BBP Gaussian', fontsize=40)\n",
    "plt.tick_params(labelsize=30)\n",
    "plt.xticks(np.arange(-4, 5, 2))\n",
    "plt.yticks(np.arange(-4, 7, 2))\n",
    "plt.gca().set_yticklabels([])\n",
    "plt.gca().yaxis.grid(alpha=0.3)\n",
    "plt.gca().xaxis.grid(alpha=0.3)\n",
    "plt.savefig('bbp_hetero.pdf', bbox_inches = 'tight')\n",
    "\n",
    "files.download(\"bbp_hetero.pdf\")\n",
    "\n",
    "plt.show()"
   ],
   "execution_count": 9,
   "outputs": [
    {
     "ename": "NameError",
     "evalue": "name 'files' is not defined",
     "output_type": "error",
     "traceback": [
      "\u001B[1;31m---------------------------------------------------------------------------\u001B[0m",
      "\u001B[1;31mNameError\u001B[0m                                 Traceback (most recent call last)",
      "\u001B[1;32m<ipython-input-9-e753aa5c493b>\u001B[0m in \u001B[0;36m<module>\u001B[1;34m\u001B[0m\n\u001B[0;32m     39\u001B[0m \u001B[0mplt\u001B[0m\u001B[1;33m.\u001B[0m\u001B[0msavefig\u001B[0m\u001B[1;33m(\u001B[0m\u001B[1;34m'bbp_hetero.pdf'\u001B[0m\u001B[1;33m,\u001B[0m \u001B[0mbbox_inches\u001B[0m \u001B[1;33m=\u001B[0m \u001B[1;34m'tight'\u001B[0m\u001B[1;33m)\u001B[0m\u001B[1;33m\u001B[0m\u001B[1;33m\u001B[0m\u001B[0m\n\u001B[0;32m     40\u001B[0m \u001B[1;33m\u001B[0m\u001B[0m\n\u001B[1;32m---> 41\u001B[1;33m \u001B[0mfiles\u001B[0m\u001B[1;33m.\u001B[0m\u001B[0mdownload\u001B[0m\u001B[1;33m(\u001B[0m\u001B[1;34m\"bbp_hetero.pdf\"\u001B[0m\u001B[1;33m)\u001B[0m\u001B[1;33m\u001B[0m\u001B[1;33m\u001B[0m\u001B[0m\n\u001B[0m\u001B[0;32m     42\u001B[0m \u001B[1;33m\u001B[0m\u001B[0m\n\u001B[0;32m     43\u001B[0m \u001B[0mplt\u001B[0m\u001B[1;33m.\u001B[0m\u001B[0mshow\u001B[0m\u001B[1;33m(\u001B[0m\u001B[1;33m)\u001B[0m\u001B[1;33m\u001B[0m\u001B[1;33m\u001B[0m\u001B[0m\n",
      "\u001B[1;31mNameError\u001B[0m: name 'files' is not defined"
     ]
    },
    {
     "data": {
      "text/plain": "<Figure size 432x360 with 1 Axes>",
      "image/png": "[encoded data removed]"
     },
     "metadata": {
      "needs_background": "light"
     },
     "output_type": "display_data"
    }
   ]
  },
  {
   "cell_type": "markdown",
   "metadata": {
    "id": "3dTuOxp7CrmZ",
    "colab_type": "text"
   },
   "source": [
    "# UCI dataset fitting"
   ]
  },
  {
   "cell_type": "code",
   "metadata": {
    "id": "oN9rvBjyVKxt",
    "colab_type": "code",
    "colab": {}
   },
   "source": [
    "class BBP_Heteroscedastic_Model_UCI(nn.Module):\n",
    "    def __init__(self, input_dim, output_dim, num_units):\n",
    "        super(BBP_Heteroscedastic_Model_UCI, self).__init__()\n",
    "        \n",
    "        self.input_dim = input_dim\n",
    "        self.output_dim = output_dim\n",
    "        \n",
    "        # network with two hidden and one output layer\n",
    "        self.layer1 = BayesLinear_Normalq(input_dim, num_units, gaussian(0, 1))\n",
    "        self.layer2 = BayesLinear_Normalq(num_units, num_units, gaussian(0, 1))\n",
    "        self.layer3 = BayesLinear_Normalq(num_units, 2*output_dim, gaussian(0, 1))\n",
    "        \n",
    "        # activation to be used between hidden layers\n",
    "        self.activation = nn.ReLU(inplace = True)\n",
    "    \n",
    "    def forward(self, x):\n",
    "        \n",
    "        KL_loss_total = 0\n",
    "        x = x.view(-1, self.input_dim)\n",
    "        \n",
    "        x, KL_loss = self.layer1(x)\n",
    "        KL_loss_total = KL_loss_total + KL_loss\n",
    "        x = self.activation(x)\n",
    "        \n",
    "        x, KL_loss = self.layer2(x)\n",
    "        KL_loss_total = KL_loss_total + KL_loss\n",
    "        \n",
    "        return x, KL_loss_total\n",
    "\n",
    "def train_BBP(data, n_splits, num_epochs, num_units, learn_rate, log_every):\n",
    "    kf = KFold(n_splits=n_splits)\n",
    "    in_dim = data.shape[1] - 1\n",
    "    train_logliks, test_logliks = [], []\n",
    "    train_rmses, test_rmses = [], []\n",
    "\n",
    "    for i, idx in enumerate(kf.split(data)):\n",
    "        print('FOLD %d:' % i)\n",
    "\n",
    "        train_index, test_index = idx\n",
    "\n",
    "        x_train, y_train = data[train_index, :in_dim], data[train_index, in_dim:]\n",
    "        x_test, y_test = data[test_index, :in_dim], data[test_index, in_dim:]\n",
    "\n",
    "        x_means, x_stds = x_train.mean(axis = 0), x_train.var(axis = 0)**0.5\n",
    "        y_means, y_stds = y_train.mean(axis = 0), y_train.var(axis = 0)**0.5\n",
    "\n",
    "        x_train = (x_train - x_means)/x_stds\n",
    "        y_train = (y_train - y_means)/y_stds\n",
    "\n",
    "        x_test = (x_test - x_means)/x_stds\n",
    "        y_test = (y_test - y_means)/y_stds\n",
    "\n",
    "        batch_size, nb_train = len(x_train), len(x_train)\n",
    "\n",
    "        net = BBP_Heteroscedastic_Model_Wrapper(network=BBP_Heteroscedastic_Model_UCI(input_dim=x_test.shape[-1], output_dim=1, num_units=num_units),\n",
    "                                                learn_rate=1e-2, batch_size=batch_size, no_batches=1)\n",
    "\n",
    "        fit_loss_train = np.zeros(num_epochs)\n",
    "        KL_loss_train = np.zeros(num_epochs)\n",
    "        total_loss = np.zeros(num_epochs)\n",
    "\n",
    "        best_net, best_loss = None, float('inf')\n",
    "\n",
    "        for i in range(num_epochs):\n",
    "\n",
    "            fit_loss, KL_loss = net.fit(x_train, y_train, no_samples = 20)\n",
    "            fit_loss_train[i] += fit_loss.cpu().data.numpy()\n",
    "            KL_loss_train[i] += KL_loss.cpu().data.numpy()\n",
    "\n",
    "            total_loss[i] = fit_loss_train[i] + KL_loss_train[i]\n",
    "\n",
    "            if fit_loss < best_loss:\n",
    "                best_loss = fit_loss\n",
    "                best_net = copy.deepcopy(net.network)\n",
    "\n",
    "            if i % log_every == 0 or i == num_epochs - 1:\n",
    "\n",
    "                train_losses, train_rmse = net.get_loss_and_rmse(x_train, y_train, 20)\n",
    "                test_losses, test_rmse = net.get_loss_and_rmse(x_test, y_test, 20)\n",
    "\n",
    "                print('Epoch: %s/%d, Train loglik = %.3f, Test loglik = %.3f, Train RMSE = %.3f, Test RMSE = %.3f' %\\\n",
    "                      (str(i+1).zfill(3), num_epochs, -train_losses.mean() - np.log(y_stds)[0],\n",
    "                       -test_losses.mean() - np.log(y_stds)[0], y_stds*train_rmse, y_stds*test_rmse))\n",
    "\n",
    "\n",
    "        train_losses, train_rmse = net.get_loss_and_rmse(x_train, y_train, 20)\n",
    "        test_losses, test_rmse = net.get_loss_and_rmse(x_test, y_test, 20)\n",
    "\n",
    "        train_logliks.append((train_losses.cpu().data.numpy().mean() + np.log(y_stds)[0]))\n",
    "        test_logliks.append((test_losses.cpu().data.numpy().mean() + np.log(y_stds)[0]))\n",
    "\n",
    "        train_rmses.append(y_stds*train_rmse)\n",
    "        test_rmses.append(y_stds*test_rmse)\n",
    "\n",
    "    print('Train log. lik. = %6.3f +/- %6.3f' % (-np.array(train_logliks).mean(), np.array(train_logliks).var()**0.5))\n",
    "    print('Test  log. lik. = %6.3f +/- %6.3f' % (-np.array(test_logliks).mean(), np.array(test_logliks).var()**0.5))\n",
    "    print('Train RMSE      = %6.3f +/- %6.3f' % (np.array(train_rmses).mean(), np.array(train_rmses).var()**0.5))\n",
    "    print('Test  RMSE      = %6.3f +/- %6.3f' % (np.array(test_rmses).mean(), np.array(test_rmses).var()**0.5))\n",
    "\n",
    "    return best_net"
   ],
   "execution_count": null,
   "outputs": []
  },
  {
   "cell_type": "markdown",
   "metadata": {
    "id": "HXpA9VBGMsxc",
    "colab_type": "text"
   },
   "source": [
    "# Housing dataset"
   ]
  },
  {
   "cell_type": "code",
   "metadata": {
    "colab_type": "code",
    "id": "cOq4tM_PLRUV",
    "colab": {
     "base_uri": "https://localhost:8080/",
     "height": 204
    },
    "outputId": "5d266c20-45c3-4903-a991-47db04082b23"
   },
   "source": [
    "np.random.seed(0)\n",
    "!wget \"https://archive.ics.uci.edu/ml/machine-learning-databases/housing/housing.data\" --no-check-certificate \n",
    "data = pd.read_csv('housing.data', header=0, delimiter=\"\\s+\").values\n",
    "data = data[np.random.permutation(np.arange(len(data)))]"
   ],
   "execution_count": null,
   "outputs": []
  },
  {
   "cell_type": "code",
   "metadata": {
    "id": "nVdx2IEbV3Kt",
    "colab_type": "code",
    "colab": {
     "base_uri": "https://localhost:8080/",
     "height": 2125
    },
    "outputId": "7233e79b-f2ac-45ea-d5ba-14822054cf53"
   },
   "source": [
    "model = train_BBP(data, n_splits=10, num_epochs=100, num_units=100, learn_rate=1e-2, log_every=10)"
   ],
   "execution_count": null,
   "outputs": []
  },
  {
   "cell_type": "markdown",
   "metadata": {
    "colab_type": "text",
    "id": "vnGD_RefRxkZ"
   },
   "source": [
    "# Concrete compressive dataset"
   ]
  },
  {
   "cell_type": "code",
   "metadata": {
    "colab_type": "code",
    "id": "s5G3-z_jRxkZ",
    "colab": {
     "base_uri": "https://localhost:8080/",
     "height": 204
    },
    "outputId": "3bf27c07-f79c-4be0-eed3-1da5b9f4ae6f"
   },
   "source": [
    "np.random.seed(0)\n",
    "!wget \"https://archive.ics.uci.edu/ml/machine-learning-databases/concrete/compressive/Concrete_Data.xls\" --no-check-certificate\n",
    "data = pd.read_excel('Concrete_Data.xls', header=0, delimiter=\"\\s+\").values\n",
    "data = data[np.random.permutation(np.arange(len(data)))]"
   ],
   "execution_count": null,
   "outputs": []
  },
  {
   "cell_type": "code",
   "metadata": {
    "id": "mRTkNIf7WsaE",
    "colab_type": "code",
    "colab": {
     "base_uri": "https://localhost:8080/",
     "height": 2125
    },
    "outputId": "d18d755f-3013-44a4-bd85-f4fc686ca558"
   },
   "source": [
    "model = train_BBP(data, n_splits=10, num_epochs=100, num_units=100, learn_rate=1e-2, log_every=10)"
   ],
   "execution_count": null,
   "outputs": []
  },
  {
   "cell_type": "markdown",
   "metadata": {
    "colab_type": "text",
    "id": "uxatwTIqVrZ1"
   },
   "source": [
    "# Energy efficiency dataset"
   ]
  },
  {
   "cell_type": "code",
   "metadata": {
    "colab_type": "code",
    "id": "pZDQX5l3ZfLV",
    "colab": {
     "base_uri": "https://localhost:8080/",
     "height": 204
    },
    "outputId": "824a70f7-eefd-4149-a89c-6487f23447c8"
   },
   "source": [
    "np.random.seed(0)\n",
    "!wget \"http://archive.ics.uci.edu/ml/machine-learning-databases/00242/ENB2012_data.xlsx\" --no-check-certificate\n",
    "data = pd.read_excel('ENB2012_data.xlsx', header=0, delimiter=\"\\s+\").values\n",
    "data = data[np.random.permutation(np.arange(len(data)))]"
   ],
   "execution_count": null,
   "outputs": []
  },
  {
   "cell_type": "code",
   "metadata": {
    "colab_type": "code",
    "id": "pHW1eArNUMKw",
    "colab": {
     "base_uri": "https://localhost:8080/",
     "height": 17255
    },
    "outputId": "fdd9886c-519c-4bb5-81db-b80b3bbf9333"
   },
   "source": [
    "model = train_BBP(data, n_splits=10, num_epochs=100, num_units=100, learn_rate=1e-2, log_every=10)"
   ],
   "execution_count": null,
   "outputs": []
  },
  {
   "cell_type": "markdown",
   "metadata": {
    "id": "vFsWDzx8NSry",
    "colab_type": "text"
   },
   "source": [
    "# Power dataset"
   ]
  },
  {
   "cell_type": "code",
   "metadata": {
    "id": "hzdZLChPNQ9X",
    "colab_type": "code",
    "colab": {
     "base_uri": "https://localhost:8080/",
     "height": 204
    },
    "outputId": "3d36af8c-d5d8-4173-8ea1-028181efcca6"
   },
   "source": [
    "np.random.seed(0)\n",
    "!wget \"https://archive.ics.uci.edu/ml/machine-learning-databases/00294/CCPP.zip\" --no-check-certificate \n",
    "zipped = zipfile.ZipFile(\"CCPP.zip\")\n",
    "data = pd.read_excel(zipped.open('CCPP/Folds5x2_pp.xlsx'), header=0, delimiter=\"\\t\").values\n",
    "np.random.shuffle(data)"
   ],
   "execution_count": null,
   "outputs": []
  },
  {
   "cell_type": "code",
   "metadata": {
    "id": "ld95mVAKyvo9",
    "colab_type": "code",
    "colab": {
     "base_uri": "https://localhost:8080/",
     "height": 17255
    },
    "outputId": "25c177cb-f585-4d73-fdce-03ee161579e4"
   },
   "source": [
    "model = train_BBP(data, n_splits=10, num_epochs=100, num_units=100, learn_rate=1e-2, log_every=10)"
   ],
   "execution_count": null,
   "outputs": []
  },
  {
   "cell_type": "markdown",
   "metadata": {
    "colab_type": "text",
    "id": "HRPICBiXCegI"
   },
   "source": [
    "# Red wine dataset"
   ]
  },
  {
   "cell_type": "code",
   "metadata": {
    "colab_type": "code",
    "id": "KOqgIBXcCegJ",
    "colab": {
     "base_uri": "https://localhost:8080/",
     "height": 221
    },
    "outputId": "2ee5dc7f-11f2-4d2b-e563-a2759e15ffce"
   },
   "source": [
    "np.random.seed(0)\n",
    "!wget \"https://archive.ics.uci.edu/ml/machine-learning-databases/wine-quality/winequality-red.csv\" --no-check-certificate \n",
    "data = pd.read_csv('winequality-red.csv', header=1, delimiter=';').values\n",
    "data = data[np.random.permutation(np.arange(len(data)))]\n",
    "data.shape"
   ],
   "execution_count": null,
   "outputs": []
  },
  {
   "cell_type": "code",
   "metadata": {
    "colab_type": "code",
    "id": "h8gWjBbKCegM",
    "colab": {
     "base_uri": "https://localhost:8080/",
     "height": 17255
    },
    "outputId": "fbd52e7a-6470-4eeb-dbd6-b7c1aa8fffaa"
   },
   "source": [
    "model = train_BBP(data, n_splits=10, num_epochs=100, num_units=100, learn_rate=1e-2, log_every=10)"
   ],
   "execution_count": null,
   "outputs": []
  },
  {
   "cell_type": "markdown",
   "metadata": {
    "colab_type": "text",
    "id": "PVZw0uJzDgdy"
   },
   "source": [
    "# Yacht dataset"
   ]
  },
  {
   "cell_type": "code",
   "metadata": {
    "colab_type": "code",
    "id": "ja_kIet3Dgdz",
    "colab": {
     "base_uri": "https://localhost:8080/",
     "height": 221
    },
    "outputId": "5b680780-6c47-4a1e-8afc-260a9f3036f3"
   },
   "source": [
    "np.random.seed(0)\n",
    "!wget \"http://archive.ics.uci.edu/ml/machine-learning-databases/00243/yacht_hydrodynamics.data\" --no-check-certificate \n",
    "data = pd.read_csv('yacht_hydrodynamics.data', header=1, delimiter='\\s+').values\n",
    "data = data[np.random.permutation(np.arange(len(data)))]\n",
    "data.shape"
   ],
   "execution_count": null,
   "outputs": []
  },
  {
   "cell_type": "code",
   "metadata": {
    "colab_type": "code",
    "id": "clxNDH6dDgd3",
    "colab": {
     "base_uri": "https://localhost:8080/",
     "height": 17255
    },
    "outputId": "d876c41d-c458-422b-9015-5ffbef165716"
   },
   "source": [
    "model = train_BBP(data, n_splits=10, num_epochs=100, num_units=100, learn_rate=1e-2, log_every=10)"
   ],
   "execution_count": null,
   "outputs": []
  },
  {
   "cell_type": "code",
   "metadata": {
    "id": "CiviAdYxXsbN",
    "colab_type": "code",
    "colab": {}
   },
   "source": [
    ""
   ],
   "execution_count": null,
   "outputs": []
  }
 ]
}